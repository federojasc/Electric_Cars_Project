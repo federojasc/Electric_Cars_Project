{
 "cells": [
  {
   "cell_type": "code",
   "execution_count": 3,
   "id": "initial_id",
   "metadata": {
    "collapsed": true,
    "ExecuteTime": {
     "end_time": "2024-03-11T22:03:07.446332600Z",
     "start_time": "2024-03-11T22:03:07.446332600Z"
    }
   },
   "outputs": [],
   "source": [
    "import pandas as pd\n",
    "import numpy as np\n",
    "import seaborn as sns\n",
    "import matplotlib.pyplot as plt\n",
    "from sklearn.model_selection import train_test_split\n",
    "from sklearn.preprocessing import StandardScaler\n",
    "from sklearn.linear_model import LinearRegression, LogisticRegression\n",
    "from sklearn.metrics import mean_squared_error, r2_score, accuracy_score, precision_score, recall_score, f1_score\n"
   ]
  },
  {
   "cell_type": "code",
   "execution_count": 4,
   "outputs": [
    {
     "name": "stdout",
     "output_type": "stream",
     "text": [
      "         Postal Code     Model Year  Electric Range      Base MSRP  \\\n",
      "count  173528.000000  173533.000000   173532.000000  173532.000000   \n",
      "mean    98174.746099    2020.435352       60.148002    1113.254472   \n",
      "std      2411.109685       2.994442       92.644038    8513.543524   \n",
      "min      1545.000000    1997.000000        0.000000       0.000000   \n",
      "25%     98052.000000    2018.000000        0.000000       0.000000   \n",
      "50%     98122.000000    2022.000000        0.000000       0.000000   \n",
      "75%     98370.000000    2023.000000       83.000000       0.000000   \n",
      "max     99577.000000    2024.000000      337.000000  845000.000000   \n",
      "\n",
      "       Legislative District  DOL Vehicle ID  2020 Census Tract  \n",
      "count         173157.000000    1.735330e+05       1.735280e+05  \n",
      "mean              29.146670    2.188134e+08       5.297739e+10  \n",
      "std               14.871778    7.658800e+07       1.567028e+09  \n",
      "min                1.000000    4.385000e+03       1.001020e+09  \n",
      "25%               18.000000    1.801662e+08       5.303301e+10  \n",
      "50%               33.000000    2.271021e+08       5.303303e+10  \n",
      "75%               42.000000    2.530049e+08       5.305307e+10  \n",
      "max               49.000000    4.792548e+08       5.603300e+10  \n"
     ]
    }
   ],
   "source": [
    "# Leer los datos\n",
    "data = pd.read_csv('Electric_Vehicle_Population_Data.csv')\n",
    "\n",
    "# Describir cada columna\n",
    "print(data.describe())\n",
    "\n",
    "# Renombrar las columnas para facilitar su uso\n",
    "#data.columns = ['nueva_columna_1', 'nueva_columna_2', ...]\n"
   ],
   "metadata": {
    "collapsed": false,
    "ExecuteTime": {
     "end_time": "2024-03-11T22:03:07.833472200Z",
     "start_time": "2024-03-11T22:03:07.446332600Z"
    }
   },
   "id": "9c88e705337fb37f"
  }
 ],
 "metadata": {
  "kernelspec": {
   "display_name": "Python 3",
   "language": "python",
   "name": "python3"
  },
  "language_info": {
   "codemirror_mode": {
    "name": "ipython",
    "version": 2
   },
   "file_extension": ".py",
   "mimetype": "text/x-python",
   "name": "python",
   "nbconvert_exporter": "python",
   "pygments_lexer": "ipython2",
   "version": "2.7.6"
  }
 },
 "nbformat": 4,
 "nbformat_minor": 5
}

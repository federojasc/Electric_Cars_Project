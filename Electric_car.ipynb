{
 "cells": [
  {
   "cell_type": "code",
   "execution_count": 19,
   "id": "initial_id",
   "metadata": {
    "collapsed": true,
    "ExecuteTime": {
     "end_time": "2024-03-12T20:35:04.954624100Z",
     "start_time": "2024-03-12T20:35:04.913853800Z"
    }
   },
   "outputs": [],
   "source": [
    "import pandas as pd\n",
    "import numpy as np\n",
    "import seaborn as sns\n",
    "import matplotlib.pyplot as plt\n",
    "from sklearn.model_selection import train_test_split\n",
    "from sklearn.preprocessing import StandardScaler\n",
    "from sklearn.linear_model import LinearRegression, LogisticRegression\n",
    "from sklearn.metrics import mean_squared_error, r2_score, accuracy_score, precision_score, recall_score, f1_score\n"
   ]
  },
  {
   "cell_type": "code",
   "execution_count": 20,
   "outputs": [
    {
     "data": {
      "text/plain": "         Postal Code     Model Year  Electric Range      Base MSRP  \\\ncount  173528.000000  173533.000000   173532.000000  173532.000000   \nmean    98174.746099    2020.435352       60.148002    1113.254472   \nstd      2411.109685       2.994442       92.644038    8513.543524   \nmin      1545.000000    1997.000000        0.000000       0.000000   \n25%     98052.000000    2018.000000        0.000000       0.000000   \n50%     98122.000000    2022.000000        0.000000       0.000000   \n75%     98370.000000    2023.000000       83.000000       0.000000   \nmax     99577.000000    2024.000000      337.000000  845000.000000   \n\n       Legislative District  DOL Vehicle ID  2020 Census Tract  \ncount         173157.000000    1.735330e+05       1.735280e+05  \nmean              29.146670    2.188134e+08       5.297739e+10  \nstd               14.871778    7.658800e+07       1.567028e+09  \nmin                1.000000    4.385000e+03       1.001020e+09  \n25%               18.000000    1.801662e+08       5.303301e+10  \n50%               33.000000    2.271021e+08       5.303303e+10  \n75%               42.000000    2.530049e+08       5.305307e+10  \nmax               49.000000    4.792548e+08       5.603300e+10  ",
      "text/html": "<div>\n<style scoped>\n    .dataframe tbody tr th:only-of-type {\n        vertical-align: middle;\n    }\n\n    .dataframe tbody tr th {\n        vertical-align: top;\n    }\n\n    .dataframe thead th {\n        text-align: right;\n    }\n</style>\n<table border=\"1\" class=\"dataframe\">\n  <thead>\n    <tr style=\"text-align: right;\">\n      <th></th>\n      <th>Postal Code</th>\n      <th>Model Year</th>\n      <th>Electric Range</th>\n      <th>Base MSRP</th>\n      <th>Legislative District</th>\n      <th>DOL Vehicle ID</th>\n      <th>2020 Census Tract</th>\n    </tr>\n  </thead>\n  <tbody>\n    <tr>\n      <th>count</th>\n      <td>173528.000000</td>\n      <td>173533.000000</td>\n      <td>173532.000000</td>\n      <td>173532.000000</td>\n      <td>173157.000000</td>\n      <td>1.735330e+05</td>\n      <td>1.735280e+05</td>\n    </tr>\n    <tr>\n      <th>mean</th>\n      <td>98174.746099</td>\n      <td>2020.435352</td>\n      <td>60.148002</td>\n      <td>1113.254472</td>\n      <td>29.146670</td>\n      <td>2.188134e+08</td>\n      <td>5.297739e+10</td>\n    </tr>\n    <tr>\n      <th>std</th>\n      <td>2411.109685</td>\n      <td>2.994442</td>\n      <td>92.644038</td>\n      <td>8513.543524</td>\n      <td>14.871778</td>\n      <td>7.658800e+07</td>\n      <td>1.567028e+09</td>\n    </tr>\n    <tr>\n      <th>min</th>\n      <td>1545.000000</td>\n      <td>1997.000000</td>\n      <td>0.000000</td>\n      <td>0.000000</td>\n      <td>1.000000</td>\n      <td>4.385000e+03</td>\n      <td>1.001020e+09</td>\n    </tr>\n    <tr>\n      <th>25%</th>\n      <td>98052.000000</td>\n      <td>2018.000000</td>\n      <td>0.000000</td>\n      <td>0.000000</td>\n      <td>18.000000</td>\n      <td>1.801662e+08</td>\n      <td>5.303301e+10</td>\n    </tr>\n    <tr>\n      <th>50%</th>\n      <td>98122.000000</td>\n      <td>2022.000000</td>\n      <td>0.000000</td>\n      <td>0.000000</td>\n      <td>33.000000</td>\n      <td>2.271021e+08</td>\n      <td>5.303303e+10</td>\n    </tr>\n    <tr>\n      <th>75%</th>\n      <td>98370.000000</td>\n      <td>2023.000000</td>\n      <td>83.000000</td>\n      <td>0.000000</td>\n      <td>42.000000</td>\n      <td>2.530049e+08</td>\n      <td>5.305307e+10</td>\n    </tr>\n    <tr>\n      <th>max</th>\n      <td>99577.000000</td>\n      <td>2024.000000</td>\n      <td>337.000000</td>\n      <td>845000.000000</td>\n      <td>49.000000</td>\n      <td>4.792548e+08</td>\n      <td>5.603300e+10</td>\n    </tr>\n  </tbody>\n</table>\n</div>"
     },
     "execution_count": 20,
     "metadata": {},
     "output_type": "execute_result"
    }
   ],
   "source": [
    "# Leer los datos\n",
    "df = pd.read_csv('Electric_Vehicle_Population_Data.csv')\n",
    "\n",
    "# Describir cada columna\n",
    "df.describe()\n",
    "\n",
    "# Renombrar las columnas para facilitar su uso\n",
    "#df.columns = ['Codigo_Postal', 'Año_Modelo', 'Rango_Electrico', 'PVPR', 'Distrito_Legal', ]\n"
   ],
   "metadata": {
    "collapsed": false,
    "ExecuteTime": {
     "end_time": "2024-03-12T20:35:05.340772Z",
     "start_time": "2024-03-12T20:35:04.924124200Z"
    }
   },
   "id": "9c88e705337fb37f"
  },
  {
   "cell_type": "code",
   "execution_count": 21,
   "outputs": [
    {
     "data": {
      "text/plain": "Index(['VIN (1-10)', 'County', 'City', 'State', 'Postal Code', 'Model Year',\n       'Make', 'Model', 'Electric Vehicle Type',\n       'Clean Alternative Fuel Vehicle (CAFV) Eligibility', 'Electric Range',\n       'Base MSRP', 'Legislative District', 'DOL Vehicle ID',\n       'Vehicle Location', 'Electric Utility', '2020 Census Tract'],\n      dtype='object')"
     },
     "execution_count": 21,
     "metadata": {},
     "output_type": "execute_result"
    }
   ],
   "source": [
    "df.columns"
   ],
   "metadata": {
    "collapsed": false,
    "ExecuteTime": {
     "end_time": "2024-03-12T20:35:05.340772Z",
     "start_time": "2024-03-12T20:35:05.333644900Z"
    }
   },
   "id": "e74bff251a7f4b09"
  },
  {
   "cell_type": "code",
   "execution_count": 22,
   "outputs": [
    {
     "data": {
      "text/plain": "   VIN (1-10)     County          City State  Postal Code  Model Year  \\\n0  5UXKT0C59G     Yakima        Zillah    WA      98953.0        2016   \n1  5YJ3E1EA2J  Snohomish       Edmonds    WA      98020.0        2018   \n2  1G1RE6E4XE     Kitsap  Port Orchard    WA      98367.0        2014   \n3  2C4RC1L76M     Skagit           Bow    WA      98232.0        2021   \n4  5YJ3E1EA2J   Thurston       Olympia    WA      98513.0        2018   \n\n        Make     Model                   Electric Vehicle Type  \\\n0        BMW        X5  Plug-in Hybrid Electric Vehicle (PHEV)   \n1      TESLA   MODEL 3          Battery Electric Vehicle (BEV)   \n2  CHEVROLET      VOLT  Plug-in Hybrid Electric Vehicle (PHEV)   \n3   CHRYSLER  PACIFICA  Plug-in Hybrid Electric Vehicle (PHEV)   \n4      TESLA   MODEL 3          Battery Electric Vehicle (BEV)   \n\n  Clean Alternative Fuel Vehicle (CAFV) Eligibility  Electric Range  \\\n0             Not eligible due to low battery range            14.0   \n1           Clean Alternative Fuel Vehicle Eligible           215.0   \n2           Clean Alternative Fuel Vehicle Eligible            38.0   \n3           Clean Alternative Fuel Vehicle Eligible            32.0   \n4           Clean Alternative Fuel Vehicle Eligible           215.0   \n\n   Base MSRP  Legislative District  DOL Vehicle ID  \\\n0        0.0                  15.0       206822717   \n1        0.0                  21.0       137721636   \n2        0.0                  26.0       197718468   \n3        0.0                  40.0       256274308   \n4        0.0                   2.0       259176578   \n\n                 Vehicle Location        Electric Utility  2020 Census Tract  \n0     POINT (-120.26317 46.40556)              PACIFICORP       5.307700e+10  \n1     POINT (-122.37507 47.80807)  PUGET SOUND ENERGY INC       5.306105e+10  \n2   POINT (-122.6847073 47.50524)  PUGET SOUND ENERGY INC       5.303509e+10  \n3  POINT (-122.440636 48.5613885)  PUGET SOUND ENERGY INC       5.305795e+10  \n4    POINT (-122.817545 46.98876)  PUGET SOUND ENERGY INC       5.306701e+10  ",
      "text/html": "<div>\n<style scoped>\n    .dataframe tbody tr th:only-of-type {\n        vertical-align: middle;\n    }\n\n    .dataframe tbody tr th {\n        vertical-align: top;\n    }\n\n    .dataframe thead th {\n        text-align: right;\n    }\n</style>\n<table border=\"1\" class=\"dataframe\">\n  <thead>\n    <tr style=\"text-align: right;\">\n      <th></th>\n      <th>VIN (1-10)</th>\n      <th>County</th>\n      <th>City</th>\n      <th>State</th>\n      <th>Postal Code</th>\n      <th>Model Year</th>\n      <th>Make</th>\n      <th>Model</th>\n      <th>Electric Vehicle Type</th>\n      <th>Clean Alternative Fuel Vehicle (CAFV) Eligibility</th>\n      <th>Electric Range</th>\n      <th>Base MSRP</th>\n      <th>Legislative District</th>\n      <th>DOL Vehicle ID</th>\n      <th>Vehicle Location</th>\n      <th>Electric Utility</th>\n      <th>2020 Census Tract</th>\n    </tr>\n  </thead>\n  <tbody>\n    <tr>\n      <th>0</th>\n      <td>5UXKT0C59G</td>\n      <td>Yakima</td>\n      <td>Zillah</td>\n      <td>WA</td>\n      <td>98953.0</td>\n      <td>2016</td>\n      <td>BMW</td>\n      <td>X5</td>\n      <td>Plug-in Hybrid Electric Vehicle (PHEV)</td>\n      <td>Not eligible due to low battery range</td>\n      <td>14.0</td>\n      <td>0.0</td>\n      <td>15.0</td>\n      <td>206822717</td>\n      <td>POINT (-120.26317 46.40556)</td>\n      <td>PACIFICORP</td>\n      <td>5.307700e+10</td>\n    </tr>\n    <tr>\n      <th>1</th>\n      <td>5YJ3E1EA2J</td>\n      <td>Snohomish</td>\n      <td>Edmonds</td>\n      <td>WA</td>\n      <td>98020.0</td>\n      <td>2018</td>\n      <td>TESLA</td>\n      <td>MODEL 3</td>\n      <td>Battery Electric Vehicle (BEV)</td>\n      <td>Clean Alternative Fuel Vehicle Eligible</td>\n      <td>215.0</td>\n      <td>0.0</td>\n      <td>21.0</td>\n      <td>137721636</td>\n      <td>POINT (-122.37507 47.80807)</td>\n      <td>PUGET SOUND ENERGY INC</td>\n      <td>5.306105e+10</td>\n    </tr>\n    <tr>\n      <th>2</th>\n      <td>1G1RE6E4XE</td>\n      <td>Kitsap</td>\n      <td>Port Orchard</td>\n      <td>WA</td>\n      <td>98367.0</td>\n      <td>2014</td>\n      <td>CHEVROLET</td>\n      <td>VOLT</td>\n      <td>Plug-in Hybrid Electric Vehicle (PHEV)</td>\n      <td>Clean Alternative Fuel Vehicle Eligible</td>\n      <td>38.0</td>\n      <td>0.0</td>\n      <td>26.0</td>\n      <td>197718468</td>\n      <td>POINT (-122.6847073 47.50524)</td>\n      <td>PUGET SOUND ENERGY INC</td>\n      <td>5.303509e+10</td>\n    </tr>\n    <tr>\n      <th>3</th>\n      <td>2C4RC1L76M</td>\n      <td>Skagit</td>\n      <td>Bow</td>\n      <td>WA</td>\n      <td>98232.0</td>\n      <td>2021</td>\n      <td>CHRYSLER</td>\n      <td>PACIFICA</td>\n      <td>Plug-in Hybrid Electric Vehicle (PHEV)</td>\n      <td>Clean Alternative Fuel Vehicle Eligible</td>\n      <td>32.0</td>\n      <td>0.0</td>\n      <td>40.0</td>\n      <td>256274308</td>\n      <td>POINT (-122.440636 48.5613885)</td>\n      <td>PUGET SOUND ENERGY INC</td>\n      <td>5.305795e+10</td>\n    </tr>\n    <tr>\n      <th>4</th>\n      <td>5YJ3E1EA2J</td>\n      <td>Thurston</td>\n      <td>Olympia</td>\n      <td>WA</td>\n      <td>98513.0</td>\n      <td>2018</td>\n      <td>TESLA</td>\n      <td>MODEL 3</td>\n      <td>Battery Electric Vehicle (BEV)</td>\n      <td>Clean Alternative Fuel Vehicle Eligible</td>\n      <td>215.0</td>\n      <td>0.0</td>\n      <td>2.0</td>\n      <td>259176578</td>\n      <td>POINT (-122.817545 46.98876)</td>\n      <td>PUGET SOUND ENERGY INC</td>\n      <td>5.306701e+10</td>\n    </tr>\n  </tbody>\n</table>\n</div>"
     },
     "execution_count": 22,
     "metadata": {},
     "output_type": "execute_result"
    }
   ],
   "source": [
    "df.head()"
   ],
   "metadata": {
    "collapsed": false,
    "ExecuteTime": {
     "end_time": "2024-03-12T20:35:05.396046700Z",
     "start_time": "2024-03-12T20:35:05.342918900Z"
    }
   },
   "id": "7b120867a4b11bb5"
  },
  {
   "cell_type": "code",
   "execution_count": 23,
   "outputs": [
    {
     "data": {
      "text/plain": "    Matricula    Condado        Ciudad Estado  Codigo_Postal  Año_Modelo  \\\n0  5UXKT0C59G     Yakima        Zillah     WA        98953.0        2016   \n1  5YJ3E1EA2J  Snohomish       Edmonds     WA        98020.0        2018   \n2  1G1RE6E4XE     Kitsap  Port Orchard     WA        98367.0        2014   \n3  2C4RC1L76M     Skagit           Bow     WA        98232.0        2021   \n4  5YJ3E1EA2J   Thurston       Olympia     WA        98513.0        2018   \n\n       Marca    Modelo                 Tipo_Vehiculo_Electrico  \\\n0        BMW        X5  Plug-in Hybrid Electric Vehicle (PHEV)   \n1      TESLA   MODEL 3          Battery Electric Vehicle (BEV)   \n2  CHEVROLET      VOLT  Plug-in Hybrid Electric Vehicle (PHEV)   \n3   CHRYSLER  PACIFICA  Plug-in Hybrid Electric Vehicle (PHEV)   \n4      TESLA   MODEL 3          Battery Electric Vehicle (BEV)   \n\n                         Elegibilidad_CAFV  Autonomia_Electrica  PVPR  \\\n0    Not eligible due to low battery range                 14.0   0.0   \n1  Clean Alternative Fuel Vehicle Eligible                215.0   0.0   \n2  Clean Alternative Fuel Vehicle Eligible                 38.0   0.0   \n3  Clean Alternative Fuel Vehicle Eligible                 32.0   0.0   \n4  Clean Alternative Fuel Vehicle Eligible                215.0   0.0   \n\n   Distrito_Legislativo  ID_Vehiculo_DOL              Ubicación_Vehiculo  \\\n0                  15.0        206822717     POINT (-120.26317 46.40556)   \n1                  21.0        137721636     POINT (-122.37507 47.80807)   \n2                  26.0        197718468   POINT (-122.6847073 47.50524)   \n3                  40.0        256274308  POINT (-122.440636 48.5613885)   \n4                   2.0        259176578    POINT (-122.817545 46.98876)   \n\n       Servicio_Electrico  Distrito_Censal_2020  \n0              PACIFICORP          5.307700e+10  \n1  PUGET SOUND ENERGY INC          5.306105e+10  \n2  PUGET SOUND ENERGY INC          5.303509e+10  \n3  PUGET SOUND ENERGY INC          5.305795e+10  \n4  PUGET SOUND ENERGY INC          5.306701e+10  ",
      "text/html": "<div>\n<style scoped>\n    .dataframe tbody tr th:only-of-type {\n        vertical-align: middle;\n    }\n\n    .dataframe tbody tr th {\n        vertical-align: top;\n    }\n\n    .dataframe thead th {\n        text-align: right;\n    }\n</style>\n<table border=\"1\" class=\"dataframe\">\n  <thead>\n    <tr style=\"text-align: right;\">\n      <th></th>\n      <th>Matricula</th>\n      <th>Condado</th>\n      <th>Ciudad</th>\n      <th>Estado</th>\n      <th>Codigo_Postal</th>\n      <th>Año_Modelo</th>\n      <th>Marca</th>\n      <th>Modelo</th>\n      <th>Tipo_Vehiculo_Electrico</th>\n      <th>Elegibilidad_CAFV</th>\n      <th>Autonomia_Electrica</th>\n      <th>PVPR</th>\n      <th>Distrito_Legislativo</th>\n      <th>ID_Vehiculo_DOL</th>\n      <th>Ubicación_Vehiculo</th>\n      <th>Servicio_Electrico</th>\n      <th>Distrito_Censal_2020</th>\n    </tr>\n  </thead>\n  <tbody>\n    <tr>\n      <th>0</th>\n      <td>5UXKT0C59G</td>\n      <td>Yakima</td>\n      <td>Zillah</td>\n      <td>WA</td>\n      <td>98953.0</td>\n      <td>2016</td>\n      <td>BMW</td>\n      <td>X5</td>\n      <td>Plug-in Hybrid Electric Vehicle (PHEV)</td>\n      <td>Not eligible due to low battery range</td>\n      <td>14.0</td>\n      <td>0.0</td>\n      <td>15.0</td>\n      <td>206822717</td>\n      <td>POINT (-120.26317 46.40556)</td>\n      <td>PACIFICORP</td>\n      <td>5.307700e+10</td>\n    </tr>\n    <tr>\n      <th>1</th>\n      <td>5YJ3E1EA2J</td>\n      <td>Snohomish</td>\n      <td>Edmonds</td>\n      <td>WA</td>\n      <td>98020.0</td>\n      <td>2018</td>\n      <td>TESLA</td>\n      <td>MODEL 3</td>\n      <td>Battery Electric Vehicle (BEV)</td>\n      <td>Clean Alternative Fuel Vehicle Eligible</td>\n      <td>215.0</td>\n      <td>0.0</td>\n      <td>21.0</td>\n      <td>137721636</td>\n      <td>POINT (-122.37507 47.80807)</td>\n      <td>PUGET SOUND ENERGY INC</td>\n      <td>5.306105e+10</td>\n    </tr>\n    <tr>\n      <th>2</th>\n      <td>1G1RE6E4XE</td>\n      <td>Kitsap</td>\n      <td>Port Orchard</td>\n      <td>WA</td>\n      <td>98367.0</td>\n      <td>2014</td>\n      <td>CHEVROLET</td>\n      <td>VOLT</td>\n      <td>Plug-in Hybrid Electric Vehicle (PHEV)</td>\n      <td>Clean Alternative Fuel Vehicle Eligible</td>\n      <td>38.0</td>\n      <td>0.0</td>\n      <td>26.0</td>\n      <td>197718468</td>\n      <td>POINT (-122.6847073 47.50524)</td>\n      <td>PUGET SOUND ENERGY INC</td>\n      <td>5.303509e+10</td>\n    </tr>\n    <tr>\n      <th>3</th>\n      <td>2C4RC1L76M</td>\n      <td>Skagit</td>\n      <td>Bow</td>\n      <td>WA</td>\n      <td>98232.0</td>\n      <td>2021</td>\n      <td>CHRYSLER</td>\n      <td>PACIFICA</td>\n      <td>Plug-in Hybrid Electric Vehicle (PHEV)</td>\n      <td>Clean Alternative Fuel Vehicle Eligible</td>\n      <td>32.0</td>\n      <td>0.0</td>\n      <td>40.0</td>\n      <td>256274308</td>\n      <td>POINT (-122.440636 48.5613885)</td>\n      <td>PUGET SOUND ENERGY INC</td>\n      <td>5.305795e+10</td>\n    </tr>\n    <tr>\n      <th>4</th>\n      <td>5YJ3E1EA2J</td>\n      <td>Thurston</td>\n      <td>Olympia</td>\n      <td>WA</td>\n      <td>98513.0</td>\n      <td>2018</td>\n      <td>TESLA</td>\n      <td>MODEL 3</td>\n      <td>Battery Electric Vehicle (BEV)</td>\n      <td>Clean Alternative Fuel Vehicle Eligible</td>\n      <td>215.0</td>\n      <td>0.0</td>\n      <td>2.0</td>\n      <td>259176578</td>\n      <td>POINT (-122.817545 46.98876)</td>\n      <td>PUGET SOUND ENERGY INC</td>\n      <td>5.306701e+10</td>\n    </tr>\n  </tbody>\n</table>\n</div>"
     },
     "execution_count": 23,
     "metadata": {},
     "output_type": "execute_result"
    }
   ],
   "source": [
    "# Renombrar las columnas para facilitar su uso\n",
    "df.columns = ['Matricula', 'Condado', 'Ciudad', 'Estado', 'Codigo_Postal', 'Año_Modelo',\n",
    "                'Marca', 'Modelo', 'Tipo_Vehiculo_Electrico', 'Elegibilidad_CAFV',\n",
    "                'Autonomia_Electrica', 'PVPR', 'Distrito_Legislativo', \n",
    "                'ID_Vehiculo_DOL', 'Ubicación_Vehiculo', 'Servicio_Electrico', \n",
    "                'Distrito_Censal_2020']\n",
    "df.head()"
   ],
   "metadata": {
    "collapsed": false,
    "ExecuteTime": {
     "end_time": "2024-03-12T20:35:05.442210800Z",
     "start_time": "2024-03-12T20:35:05.360844200Z"
    }
   },
   "id": "db4894f4a4383de1"
  },
  {
   "cell_type": "code",
   "execution_count": 24,
   "outputs": [
    {
     "ename": "NameError",
     "evalue": "name 'data' is not defined",
     "output_type": "error",
     "traceback": [
      "\u001B[1;31m---------------------------------------------------------------------------\u001B[0m",
      "\u001B[1;31mNameError\u001B[0m                                 Traceback (most recent call last)",
      "Cell \u001B[1;32mIn[24], line 2\u001B[0m\n\u001B[0;32m      1\u001B[0m \u001B[38;5;66;03m# Visualizar los datos\u001B[39;00m\n\u001B[1;32m----> 2\u001B[0m sns\u001B[38;5;241m.\u001B[39mpairplot(data)\n\u001B[0;32m      5\u001B[0m \u001B[38;5;66;03m# Seleccionar las columnas que se van a utilizar\u001B[39;00m\n\u001B[0;32m      6\u001B[0m X \u001B[38;5;241m=\u001B[39m data[[\u001B[38;5;124m'\u001B[39m\u001B[38;5;124mYear\u001B[39m\u001B[38;5;124m'\u001B[39m, \u001B[38;5;124m'\u001B[39m\u001B[38;5;124mMake\u001B[39m\u001B[38;5;124m'\u001B[39m, \u001B[38;5;124m'\u001B[39m\u001B[38;5;124mModel\u001B[39m\u001B[38;5;124m'\u001B[39m, \u001B[38;5;124m'\u001B[39m\u001B[38;5;124mElectric Range\u001B[39m\u001B[38;5;124m'\u001B[39m, \u001B[38;5;124m'\u001B[39m\u001B[38;5;124mBase MSRP\u001B[39m\u001B[38;5;124m'\u001B[39m, \u001B[38;5;124m'\u001B[39m\u001B[38;5;124mLegislative District\u001B[39m\u001B[38;5;124m'\u001B[39m, \u001B[38;5;124m'\u001B[39m\u001B[38;5;124mDOL Vehicle ID\u001B[39m\u001B[38;5;124m'\u001B[39m, \u001B[38;5;124m'\u001B[39m\u001B[38;5;124mVehicle Location\u001B[39m\u001B[38;5;124m'\u001B[39m]]\n",
      "\u001B[1;31mNameError\u001B[0m: name 'data' is not defined"
     ]
    }
   ],
   "source": [
    "# Visualizar los datos\n",
    "sns.pairplot(data)\n",
    "\n",
    "\n",
    "# Seleccionar las columnas que se van a utilizar\n",
    "X = data[['Year', 'Make', 'Model', 'Electric Range', 'Base MSRP', 'Legislative District', 'DOL Vehicle ID', 'Vehicle Location']]\n",
    "y = data['Electric Vehicle Type']\n",
    "##pushea\n",
    "#plt.show()"
   ],
   "metadata": {
    "collapsed": false,
    "ExecuteTime": {
     "end_time": "2024-03-12T20:35:05.492437300Z",
     "start_time": "2024-03-12T20:35:05.379820Z"
    }
   },
   "id": "11627b1958008851"
  },
  {
   "cell_type": "code",
   "execution_count": null,
   "outputs": [],
   "source": [
    "# Convertir las columnas categóricas a numéricas\n",
    "X = pd.get_dummies(X)\n"
   ],
   "metadata": {
    "collapsed": false,
    "ExecuteTime": {
     "start_time": "2024-03-12T20:35:05.396046700Z"
    }
   },
   "id": "bf6ba7905258a3df"
  },
  {
   "cell_type": "code",
   "execution_count": null,
   "outputs": [],
   "source": [],
   "metadata": {
    "collapsed": false,
    "ExecuteTime": {
     "start_time": "2024-03-12T20:35:05.401053100Z"
    }
   },
   "id": "b23c6b19d4e49fdd"
  }
 ],
 "metadata": {
  "kernelspec": {
   "display_name": "Python 3",
   "language": "python",
   "name": "python3"
  },
  "language_info": {
   "codemirror_mode": {
    "name": "ipython",
    "version": 2
   },
   "file_extension": ".py",
   "mimetype": "text/x-python",
   "name": "python",
   "nbconvert_exporter": "python",
   "pygments_lexer": "ipython2",
   "version": "2.7.6"
  }
 },
 "nbformat": 4,
 "nbformat_minor": 5
}

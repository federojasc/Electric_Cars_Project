{
 "cells": [
  {
   "cell_type": "code",
   "execution_count": 79,
   "id": "initial_id",
   "metadata": {
    "collapsed": true,
    "ExecuteTime": {
     "end_time": "2024-03-15T15:30:32.884116800Z",
     "start_time": "2024-03-15T15:30:31.518872200Z"
    }
   },
   "outputs": [],
   "source": [
    "import pandas as pd\n",
    "import numpy as np\n",
    "import matplotlib.pyplot as plt\n",
    "import seaborn as sns"
   ]
  },
  {
   "cell_type": "code",
   "execution_count": 80,
   "outputs": [],
   "source": [
    "df = pd.read_csv('Housing_Price_Data.csv')"
   ],
   "metadata": {
    "collapsed": false,
    "ExecuteTime": {
     "end_time": "2024-03-15T15:30:32.901073500Z",
     "start_time": "2024-03-15T15:30:31.522428800Z"
    }
   },
   "id": "3af3ffa9db562b91"
  },
  {
   "cell_type": "code",
   "execution_count": 81,
   "outputs": [
    {
     "data": {
      "text/plain": "      price  area  bedrooms  bathrooms  stories mainroad guestroom basement  \\\n0  13300000  7420         4          2        3      yes        no       no   \n1  12250000  8960         4          4        4      yes        no       no   \n2  12250000  9960         3          2        2      yes        no      yes   \n3  12215000  7500         4          2        2      yes        no      yes   \n4  11410000  7420         4          1        2      yes       yes      yes   \n\n  hotwaterheating airconditioning  parking prefarea furnishingstatus  \n0              no             yes        2      yes        furnished  \n1              no             yes        3       no        furnished  \n2              no              no        2      yes   semi-furnished  \n3              no             yes        3      yes        furnished  \n4              no             yes        2       no        furnished  ",
      "text/html": "<div>\n<style scoped>\n    .dataframe tbody tr th:only-of-type {\n        vertical-align: middle;\n    }\n\n    .dataframe tbody tr th {\n        vertical-align: top;\n    }\n\n    .dataframe thead th {\n        text-align: right;\n    }\n</style>\n<table border=\"1\" class=\"dataframe\">\n  <thead>\n    <tr style=\"text-align: right;\">\n      <th></th>\n      <th>price</th>\n      <th>area</th>\n      <th>bedrooms</th>\n      <th>bathrooms</th>\n      <th>stories</th>\n      <th>mainroad</th>\n      <th>guestroom</th>\n      <th>basement</th>\n      <th>hotwaterheating</th>\n      <th>airconditioning</th>\n      <th>parking</th>\n      <th>prefarea</th>\n      <th>furnishingstatus</th>\n    </tr>\n  </thead>\n  <tbody>\n    <tr>\n      <th>0</th>\n      <td>13300000</td>\n      <td>7420</td>\n      <td>4</td>\n      <td>2</td>\n      <td>3</td>\n      <td>yes</td>\n      <td>no</td>\n      <td>no</td>\n      <td>no</td>\n      <td>yes</td>\n      <td>2</td>\n      <td>yes</td>\n      <td>furnished</td>\n    </tr>\n    <tr>\n      <th>1</th>\n      <td>12250000</td>\n      <td>8960</td>\n      <td>4</td>\n      <td>4</td>\n      <td>4</td>\n      <td>yes</td>\n      <td>no</td>\n      <td>no</td>\n      <td>no</td>\n      <td>yes</td>\n      <td>3</td>\n      <td>no</td>\n      <td>furnished</td>\n    </tr>\n    <tr>\n      <th>2</th>\n      <td>12250000</td>\n      <td>9960</td>\n      <td>3</td>\n      <td>2</td>\n      <td>2</td>\n      <td>yes</td>\n      <td>no</td>\n      <td>yes</td>\n      <td>no</td>\n      <td>no</td>\n      <td>2</td>\n      <td>yes</td>\n      <td>semi-furnished</td>\n    </tr>\n    <tr>\n      <th>3</th>\n      <td>12215000</td>\n      <td>7500</td>\n      <td>4</td>\n      <td>2</td>\n      <td>2</td>\n      <td>yes</td>\n      <td>no</td>\n      <td>yes</td>\n      <td>no</td>\n      <td>yes</td>\n      <td>3</td>\n      <td>yes</td>\n      <td>furnished</td>\n    </tr>\n    <tr>\n      <th>4</th>\n      <td>11410000</td>\n      <td>7420</td>\n      <td>4</td>\n      <td>1</td>\n      <td>2</td>\n      <td>yes</td>\n      <td>yes</td>\n      <td>yes</td>\n      <td>no</td>\n      <td>yes</td>\n      <td>2</td>\n      <td>no</td>\n      <td>furnished</td>\n    </tr>\n  </tbody>\n</table>\n</div>"
     },
     "execution_count": 81,
     "metadata": {},
     "output_type": "execute_result"
    }
   ],
   "source": [
    "df.head()"
   ],
   "metadata": {
    "collapsed": false,
    "ExecuteTime": {
     "end_time": "2024-03-15T15:30:32.987245200Z",
     "start_time": "2024-03-15T15:30:31.538151Z"
    }
   },
   "id": "5cdae3445147a7cb"
  },
  {
   "cell_type": "code",
   "execution_count": 82,
   "outputs": [
    {
     "name": "stdout",
     "output_type": "stream",
     "text": [
      "<class 'pandas.core.frame.DataFrame'>\n",
      "RangeIndex: 545 entries, 0 to 544\n",
      "Data columns (total 13 columns):\n",
      " #   Column            Non-Null Count  Dtype \n",
      "---  ------            --------------  ----- \n",
      " 0   price             545 non-null    int64 \n",
      " 1   area              545 non-null    int64 \n",
      " 2   bedrooms          545 non-null    int64 \n",
      " 3   bathrooms         545 non-null    int64 \n",
      " 4   stories           545 non-null    int64 \n",
      " 5   mainroad          545 non-null    object\n",
      " 6   guestroom         545 non-null    object\n",
      " 7   basement          545 non-null    object\n",
      " 8   hotwaterheating   545 non-null    object\n",
      " 9   airconditioning   545 non-null    object\n",
      " 10  parking           545 non-null    int64 \n",
      " 11  prefarea          545 non-null    object\n",
      " 12  furnishingstatus  545 non-null    object\n",
      "dtypes: int64(6), object(7)\n",
      "memory usage: 55.5+ KB\n"
     ]
    }
   ],
   "source": [
    "df.info()"
   ],
   "metadata": {
    "collapsed": false,
    "ExecuteTime": {
     "end_time": "2024-03-15T15:30:32.987245200Z",
     "start_time": "2024-03-15T15:30:31.551684400Z"
    }
   },
   "id": "e14f1356284f5689"
  },
  {
   "cell_type": "code",
   "execution_count": 83,
   "outputs": [
    {
     "data": {
      "text/plain": "              price          area    bedrooms   bathrooms     stories  \\\ncount  5.450000e+02    545.000000  545.000000  545.000000  545.000000   \nmean   4.766729e+06   5150.541284    2.965138    1.286239    1.805505   \nstd    1.870440e+06   2170.141023    0.738064    0.502470    0.867492   \nmin    1.750000e+06   1650.000000    1.000000    1.000000    1.000000   \n25%    3.430000e+06   3600.000000    2.000000    1.000000    1.000000   \n50%    4.340000e+06   4600.000000    3.000000    1.000000    2.000000   \n75%    5.740000e+06   6360.000000    3.000000    2.000000    2.000000   \nmax    1.330000e+07  16200.000000    6.000000    4.000000    4.000000   \n\n          parking  \ncount  545.000000  \nmean     0.693578  \nstd      0.861586  \nmin      0.000000  \n25%      0.000000  \n50%      0.000000  \n75%      1.000000  \nmax      3.000000  ",
      "text/html": "<div>\n<style scoped>\n    .dataframe tbody tr th:only-of-type {\n        vertical-align: middle;\n    }\n\n    .dataframe tbody tr th {\n        vertical-align: top;\n    }\n\n    .dataframe thead th {\n        text-align: right;\n    }\n</style>\n<table border=\"1\" class=\"dataframe\">\n  <thead>\n    <tr style=\"text-align: right;\">\n      <th></th>\n      <th>price</th>\n      <th>area</th>\n      <th>bedrooms</th>\n      <th>bathrooms</th>\n      <th>stories</th>\n      <th>parking</th>\n    </tr>\n  </thead>\n  <tbody>\n    <tr>\n      <th>count</th>\n      <td>5.450000e+02</td>\n      <td>545.000000</td>\n      <td>545.000000</td>\n      <td>545.000000</td>\n      <td>545.000000</td>\n      <td>545.000000</td>\n    </tr>\n    <tr>\n      <th>mean</th>\n      <td>4.766729e+06</td>\n      <td>5150.541284</td>\n      <td>2.965138</td>\n      <td>1.286239</td>\n      <td>1.805505</td>\n      <td>0.693578</td>\n    </tr>\n    <tr>\n      <th>std</th>\n      <td>1.870440e+06</td>\n      <td>2170.141023</td>\n      <td>0.738064</td>\n      <td>0.502470</td>\n      <td>0.867492</td>\n      <td>0.861586</td>\n    </tr>\n    <tr>\n      <th>min</th>\n      <td>1.750000e+06</td>\n      <td>1650.000000</td>\n      <td>1.000000</td>\n      <td>1.000000</td>\n      <td>1.000000</td>\n      <td>0.000000</td>\n    </tr>\n    <tr>\n      <th>25%</th>\n      <td>3.430000e+06</td>\n      <td>3600.000000</td>\n      <td>2.000000</td>\n      <td>1.000000</td>\n      <td>1.000000</td>\n      <td>0.000000</td>\n    </tr>\n    <tr>\n      <th>50%</th>\n      <td>4.340000e+06</td>\n      <td>4600.000000</td>\n      <td>3.000000</td>\n      <td>1.000000</td>\n      <td>2.000000</td>\n      <td>0.000000</td>\n    </tr>\n    <tr>\n      <th>75%</th>\n      <td>5.740000e+06</td>\n      <td>6360.000000</td>\n      <td>3.000000</td>\n      <td>2.000000</td>\n      <td>2.000000</td>\n      <td>1.000000</td>\n    </tr>\n    <tr>\n      <th>max</th>\n      <td>1.330000e+07</td>\n      <td>16200.000000</td>\n      <td>6.000000</td>\n      <td>4.000000</td>\n      <td>4.000000</td>\n      <td>3.000000</td>\n    </tr>\n  </tbody>\n</table>\n</div>"
     },
     "execution_count": 83,
     "metadata": {},
     "output_type": "execute_result"
    }
   ],
   "source": [
    "df.describe()"
   ],
   "metadata": {
    "collapsed": false,
    "ExecuteTime": {
     "end_time": "2024-03-15T15:30:32.987245200Z",
     "start_time": "2024-03-15T15:30:31.554527400Z"
    }
   },
   "id": "76a2fcf781830450"
  },
  {
   "cell_type": "code",
   "execution_count": 84,
   "outputs": [
    {
     "data": {
      "text/plain": "price               0\narea                0\nbedrooms            0\nbathrooms           0\nstories             0\nmainroad            0\nguestroom           0\nbasement            0\nhotwaterheating     0\nairconditioning     0\nparking             0\nprefarea            0\nfurnishingstatus    0\ndtype: int64"
     },
     "execution_count": 84,
     "metadata": {},
     "output_type": "execute_result"
    }
   ],
   "source": [
    "df.isnull().sum()"
   ],
   "metadata": {
    "collapsed": false,
    "ExecuteTime": {
     "end_time": "2024-03-15T15:30:32.987245200Z",
     "start_time": "2024-03-15T15:30:31.572511600Z"
    }
   },
   "id": "6d3f1374f2691656"
  },
  {
   "cell_type": "code",
   "execution_count": 85,
   "outputs": [
    {
     "data": {
      "text/plain": "Index(['price', 'area', 'bedrooms', 'bathrooms', 'stories', 'mainroad',\n       'guestroom', 'basement', 'hotwaterheating', 'airconditioning',\n       'parking', 'prefarea', 'furnishingstatus'],\n      dtype='object')"
     },
     "execution_count": 85,
     "metadata": {},
     "output_type": "execute_result"
    }
   ],
   "source": [
    "df.columns"
   ],
   "metadata": {
    "collapsed": false,
    "ExecuteTime": {
     "end_time": "2024-03-15T15:30:32.987245200Z",
     "start_time": "2024-03-15T15:30:31.577347200Z"
    }
   },
   "id": "58a4d7f661b42ea2"
  },
  {
   "cell_type": "markdown",
   "source": [
    "# Renombrar columnas"
   ],
   "metadata": {
    "collapsed": false
   },
   "id": "b3655bc41a9462a4"
  },
  {
   "cell_type": "code",
   "execution_count": 86,
   "outputs": [],
   "source": [],
   "metadata": {
    "collapsed": false,
    "ExecuteTime": {
     "end_time": "2024-03-15T15:30:32.987245200Z",
     "start_time": "2024-03-15T15:30:31.589255800Z"
    }
   },
   "id": "81375ee32f4522d6"
  },
  {
   "cell_type": "code",
   "execution_count": 87,
   "outputs": [
    {
     "data": {
      "text/plain": "Precio                     219\nArea                       284\nHabitaciones                 6\nBaños                        4\nPisos                        4\nCallePrincipal               2\nHabitacionInvitados          2\nSotano                       2\nCalefaccionAguaCaliente      2\nAireAcondicionado            2\nEstacionamiento              4\nAreaPreferida                2\nEstadoAmueblado              3\ndtype: int64"
     },
     "execution_count": 87,
     "metadata": {},
     "output_type": "execute_result"
    }
   ],
   "source": [
    "#Identificar columnas de un solo valor\n",
    "df.nunique()"
   ],
   "metadata": {
    "collapsed": false,
    "ExecuteTime": {
     "end_time": "2024-03-15T15:30:32.987245200Z",
     "start_time": "2024-03-15T15:30:31.589255800Z"
    }
   },
   "id": "a8adae64136f7bcd"
  },
  {
   "cell_type": "code",
   "execution_count": 88,
   "outputs": [
    {
     "data": {
      "text/plain": "Precio             3.498544e+12\nArea               4.709512e+06\nHabitaciones       5.447383e-01\nBaños              2.524757e-01\nPisos              7.525432e-01\nEstacionamiento    7.423300e-01\ndtype: float64"
     },
     "execution_count": 88,
     "metadata": {},
     "output_type": "execute_result"
    }
   ],
   "source": [
    "#ver columnas de tipo numero\n",
    "df.select_dtypes(include=[np.number]).columns\n",
    "#calcular varianza de estas columnas\n",
    "df.select_dtypes(include=[np.number]).var()"
   ],
   "metadata": {
    "collapsed": false,
    "ExecuteTime": {
     "end_time": "2024-03-15T15:30:32.987245200Z",
     "start_time": "2024-03-15T15:30:31.599191800Z"
    }
   },
   "id": "b6bca6e277e85af5"
  },
  {
   "cell_type": "code",
   "execution_count": 89,
   "outputs": [],
   "source": [
    "#Eliminar datos duplicados\n",
    "df = df.drop_duplicates()"
   ],
   "metadata": {
    "collapsed": false,
    "ExecuteTime": {
     "end_time": "2024-03-15T15:30:32.987245200Z",
     "start_time": "2024-03-15T15:30:31.605060200Z"
    }
   },
   "id": "e28d27a338666df7"
  },
  {
   "cell_type": "code",
   "execution_count": 90,
   "outputs": [],
   "source": [
    "#Eliminar datos faltantes\n",
    "df = df.dropna()"
   ],
   "metadata": {
    "collapsed": false,
    "ExecuteTime": {
     "end_time": "2024-03-15T15:30:33.025517700Z",
     "start_time": "2024-03-15T15:30:31.614450700Z"
    }
   },
   "id": "682ac5321088ba1"
  },
  {
   "cell_type": "code",
   "execution_count": 91,
   "outputs": [
    {
     "data": {
      "text/plain": "     Precio  Area  Habitaciones  Baños  Pisos CallePrincipal  \\\n0  13300000  7420             4      2      3            yes   \n1  12250000  8960             4      4      4            yes   \n2  12250000  9960             3      2      2            yes   \n3  12215000  7500             4      2      2            yes   \n4  11410000  7420             4      1      2            yes   \n\n  HabitacionInvitados Sotano CalefaccionAguaCaliente AireAcondicionado  \\\n0                  no     no                      no               yes   \n1                  no     no                      no               yes   \n2                  no    yes                      no                no   \n3                  no    yes                      no               yes   \n4                 yes    yes                      no               yes   \n\n   Estacionamiento AreaPreferida EstadoAmueblado  \n0                2           yes       furnished  \n1                3            no       furnished  \n2                2           yes  semi-furnished  \n3                3           yes       furnished  \n4                2            no       furnished  ",
      "text/html": "<div>\n<style scoped>\n    .dataframe tbody tr th:only-of-type {\n        vertical-align: middle;\n    }\n\n    .dataframe tbody tr th {\n        vertical-align: top;\n    }\n\n    .dataframe thead th {\n        text-align: right;\n    }\n</style>\n<table border=\"1\" class=\"dataframe\">\n  <thead>\n    <tr style=\"text-align: right;\">\n      <th></th>\n      <th>Precio</th>\n      <th>Area</th>\n      <th>Habitaciones</th>\n      <th>Baños</th>\n      <th>Pisos</th>\n      <th>CallePrincipal</th>\n      <th>HabitacionInvitados</th>\n      <th>Sotano</th>\n      <th>CalefaccionAguaCaliente</th>\n      <th>AireAcondicionado</th>\n      <th>Estacionamiento</th>\n      <th>AreaPreferida</th>\n      <th>EstadoAmueblado</th>\n    </tr>\n  </thead>\n  <tbody>\n    <tr>\n      <th>0</th>\n      <td>13300000</td>\n      <td>7420</td>\n      <td>4</td>\n      <td>2</td>\n      <td>3</td>\n      <td>yes</td>\n      <td>no</td>\n      <td>no</td>\n      <td>no</td>\n      <td>yes</td>\n      <td>2</td>\n      <td>yes</td>\n      <td>furnished</td>\n    </tr>\n    <tr>\n      <th>1</th>\n      <td>12250000</td>\n      <td>8960</td>\n      <td>4</td>\n      <td>4</td>\n      <td>4</td>\n      <td>yes</td>\n      <td>no</td>\n      <td>no</td>\n      <td>no</td>\n      <td>yes</td>\n      <td>3</td>\n      <td>no</td>\n      <td>furnished</td>\n    </tr>\n    <tr>\n      <th>2</th>\n      <td>12250000</td>\n      <td>9960</td>\n      <td>3</td>\n      <td>2</td>\n      <td>2</td>\n      <td>yes</td>\n      <td>no</td>\n      <td>yes</td>\n      <td>no</td>\n      <td>no</td>\n      <td>2</td>\n      <td>yes</td>\n      <td>semi-furnished</td>\n    </tr>\n    <tr>\n      <th>3</th>\n      <td>12215000</td>\n      <td>7500</td>\n      <td>4</td>\n      <td>2</td>\n      <td>2</td>\n      <td>yes</td>\n      <td>no</td>\n      <td>yes</td>\n      <td>no</td>\n      <td>yes</td>\n      <td>3</td>\n      <td>yes</td>\n      <td>furnished</td>\n    </tr>\n    <tr>\n      <th>4</th>\n      <td>11410000</td>\n      <td>7420</td>\n      <td>4</td>\n      <td>1</td>\n      <td>2</td>\n      <td>yes</td>\n      <td>yes</td>\n      <td>yes</td>\n      <td>no</td>\n      <td>yes</td>\n      <td>2</td>\n      <td>no</td>\n      <td>furnished</td>\n    </tr>\n  </tbody>\n</table>\n</div>"
     },
     "execution_count": 91,
     "metadata": {},
     "output_type": "execute_result"
    }
   ],
   "source": [
    "df.describe()"
   ],
   "metadata": {
    "collapsed": false,
    "ExecuteTime": {
     "end_time": "2024-03-15T15:30:33.027044Z",
     "start_time": "2024-03-15T15:30:31.619329300Z"
    }
   },
   "id": "bad0775850a19590"
  },
  {
   "cell_type": "code",
   "execution_count": 92,
   "outputs": [
    {
     "data": {
      "text/plain": "             Precio          Area  Habitaciones       Baños       Pisos  \\\ncount  5.450000e+02    545.000000    545.000000  545.000000  545.000000   \nmean   4.766729e+06   5150.541284      2.965138    1.286239    1.805505   \nstd    1.870440e+06   2170.141023      0.738064    0.502470    0.867492   \nmin    1.750000e+06   1650.000000      1.000000    1.000000    1.000000   \n25%    3.430000e+06   3600.000000      2.000000    1.000000    1.000000   \n50%    4.340000e+06   4600.000000      3.000000    1.000000    2.000000   \n75%    5.740000e+06   6360.000000      3.000000    2.000000    2.000000   \nmax    1.330000e+07  16200.000000      6.000000    4.000000    4.000000   \n\n       Estacionamiento  \ncount       545.000000  \nmean          0.693578  \nstd           0.861586  \nmin           0.000000  \n25%           0.000000  \n50%           0.000000  \n75%           1.000000  \nmax           3.000000  ",
      "text/html": "<div>\n<style scoped>\n    .dataframe tbody tr th:only-of-type {\n        vertical-align: middle;\n    }\n\n    .dataframe tbody tr th {\n        vertical-align: top;\n    }\n\n    .dataframe thead th {\n        text-align: right;\n    }\n</style>\n<table border=\"1\" class=\"dataframe\">\n  <thead>\n    <tr style=\"text-align: right;\">\n      <th></th>\n      <th>Precio</th>\n      <th>Area</th>\n      <th>Habitaciones</th>\n      <th>Baños</th>\n      <th>Pisos</th>\n      <th>Estacionamiento</th>\n    </tr>\n  </thead>\n  <tbody>\n    <tr>\n      <th>count</th>\n      <td>5.450000e+02</td>\n      <td>545.000000</td>\n      <td>545.000000</td>\n      <td>545.000000</td>\n      <td>545.000000</td>\n      <td>545.000000</td>\n    </tr>\n    <tr>\n      <th>mean</th>\n      <td>4.766729e+06</td>\n      <td>5150.541284</td>\n      <td>2.965138</td>\n      <td>1.286239</td>\n      <td>1.805505</td>\n      <td>0.693578</td>\n    </tr>\n    <tr>\n      <th>std</th>\n      <td>1.870440e+06</td>\n      <td>2170.141023</td>\n      <td>0.738064</td>\n      <td>0.502470</td>\n      <td>0.867492</td>\n      <td>0.861586</td>\n    </tr>\n    <tr>\n      <th>min</th>\n      <td>1.750000e+06</td>\n      <td>1650.000000</td>\n      <td>1.000000</td>\n      <td>1.000000</td>\n      <td>1.000000</td>\n      <td>0.000000</td>\n    </tr>\n    <tr>\n      <th>25%</th>\n      <td>3.430000e+06</td>\n      <td>3600.000000</td>\n      <td>2.000000</td>\n      <td>1.000000</td>\n      <td>1.000000</td>\n      <td>0.000000</td>\n    </tr>\n    <tr>\n      <th>50%</th>\n      <td>4.340000e+06</td>\n      <td>4600.000000</td>\n      <td>3.000000</td>\n      <td>1.000000</td>\n      <td>2.000000</td>\n      <td>0.000000</td>\n    </tr>\n    <tr>\n      <th>75%</th>\n      <td>5.740000e+06</td>\n      <td>6360.000000</td>\n      <td>3.000000</td>\n      <td>2.000000</td>\n      <td>2.000000</td>\n      <td>1.000000</td>\n    </tr>\n    <tr>\n      <th>max</th>\n      <td>1.330000e+07</td>\n      <td>16200.000000</td>\n      <td>6.000000</td>\n      <td>4.000000</td>\n      <td>4.000000</td>\n      <td>3.000000</td>\n    </tr>\n  </tbody>\n</table>\n</div>"
     },
     "execution_count": 92,
     "metadata": {},
     "output_type": "execute_result"
    }
   ],
   "source": [],
   "metadata": {
    "collapsed": false,
    "ExecuteTime": {
     "end_time": "2024-03-15T15:30:33.027044Z",
     "start_time": "2024-03-15T15:30:31.636482800Z"
    }
   },
   "id": "82fc56d8e1241412"
  },
  {
   "cell_type": "code",
   "execution_count": 92,
   "outputs": [],
   "source": [
    "plt.title('Boxplots del precio')\n",
    "plt.xlabel('Columnas')\n",
    "plt.ylabel('Valores')\n",
    "plt.xticks(rotation=45)#graficar outliers\n",
    "sns.boxplot(x=df['price'])"
   ],
   "metadata": {
    "collapsed": false,
    "ExecuteTime": {
     "end_time": "2024-03-15T15:30:33.027044Z",
     "start_time": "2024-03-15T15:30:31.658393300Z"
    }
   },
   "id": "8e92d3896393645d"
  },
  {
   "cell_type": "code",
   "execution_count": 93,
   "outputs": [
    {
     "data": {
      "text/plain": "<Axes: title={'center': 'Boxplots del precio'}, xlabel='Precio', ylabel='Valores'>"
     },
     "execution_count": 93,
     "metadata": {},
     "output_type": "execute_result"
    },
    {
     "data": {
      "text/plain": "<Figure size 640x480 with 1 Axes>",
      "image/png": "[encoded data removed]"
     },
     "metadata": {},
     "output_type": "display_data"
    }
   ],
   "source": [
    "plt.title('Boxplots del area')\n",
    "plt.xlabel('Columnas')\n",
    "plt.ylabel('Valores')\n",
    "plt.xticks(rotation=45)\n",
    "sns.boxplot(x=df['area'])"
   ],
   "metadata": {
    "collapsed": false,
    "ExecuteTime": {
     "end_time": "2024-03-15T15:30:33.027044Z",
     "start_time": "2024-03-15T15:30:31.658393300Z"
    }
   },
   "id": "fc3ab4daebf850fe"
  },
  {
   "cell_type": "code",
   "execution_count": 94,
   "outputs": [
    {
     "data": {
      "text/plain": "<Axes: title={'center': 'Boxplots del area'}, xlabel='Area', ylabel='Valores'>"
     },
     "execution_count": 94,
     "metadata": {},
     "output_type": "execute_result"
    },
    {
     "data": {
      "text/plain": "<Figure size 640x480 with 1 Axes>",
      "image/png": "[encoded data removed]"
     },
     "metadata": {},
     "output_type": "display_data"
    }
   ],
   "source": [
    "plt.figure(figsize=(10, 6))\n",
    "sns.boxplot(data=df[['bedrooms', 'bathrooms', 'stories']])\n",
    "plt.title('Boxplots de las columnas')\n",
    "plt.xlabel('Columnas')\n",
    "plt.ylabel('Valores')\n",
    "plt.xticks(rotation=45)\n",
    "plt.show()"
   ],
   "metadata": {
    "collapsed": false,
    "ExecuteTime": {
     "end_time": "2024-03-15T15:30:33.027044Z",
     "start_time": "2024-03-15T15:30:31.796157Z"
    }
   },
   "id": "81d33d611825eee9"
  }
 ],
 "metadata": {
  "kernelspec": {
   "display_name": "Python 3",
   "language": "python",
   "name": "python3"
  },
  "language_info": {
   "codemirror_mode": {
    "name": "ipython",
    "version": 2
   },
   "file_extension": ".py",
   "mimetype": "text/x-python",
   "name": "python",
   "nbconvert_exporter": "python",
   "pygments_lexer": "ipython2",
   "version": "2.7.6"
  }
 },
 "nbformat": 4,
 "nbformat_minor": 5
}
